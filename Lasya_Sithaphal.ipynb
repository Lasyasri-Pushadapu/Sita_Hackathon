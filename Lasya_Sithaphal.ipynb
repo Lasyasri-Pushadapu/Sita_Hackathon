{
  "nbformat": 4,
  "nbformat_minor": 0,
  "metadata": {
    "colab": {
      "provenance": [],
      "authorship_tag": "ABX9TyOxQHm107jdlZjZ0ezTHozg",
      "include_colab_link": true
    },
    "kernelspec": {
      "name": "python3",
      "display_name": "Python 3"
    },
    "language_info": {
      "name": "python"
    }
  },
  "cells": [
    {
      "cell_type": "markdown",
      "metadata": {
        "id": "view-in-github",
        "colab_type": "text"
      },
      "source": [
        "<a href=\"https://colab.research.google.com/github/Lasyasri-Pushadapu/Sita_Hackathon/blob/main/Lasya_Sithaphal.ipynb\" target=\"_parent\"><img src=\"https://colab.research.google.com/assets/colab-badge.svg\" alt=\"Open In Colab\"/></a>"
      ]
    },
    {
      "cell_type": "code",
      "source": [],
      "metadata": {
        "id": "dMH23STBfXE_"
      },
      "execution_count": null,
      "outputs": []
    },
    {
      "cell_type": "code",
      "source": [
        "!pip install PyMuPDF\n",
        "import fitz  # PyMuPDF\n",
        "from sentence_transformers import SentenceTransformer\n",
        "import numpy as np\n",
        "from sklearn.metrics.pairwise import cosine_similarity\n",
        "import re\n",
        "\n",
        "\n",
        "class PDFQuestionAnswering:\n",
        "    def __init__(self):  # Fix: Changed _init_ to __init__\n",
        "        # Initialize the embedding model\n",
        "        self.model = SentenceTransformer('all-MiniLM-L6-v2')\n",
        "\n",
        "    def extract_text_from_pdf(self, pdf_path):\n",
        "        try:\n",
        "            doc = fitz.open(pdf_path)\n",
        "            text = \"\"\n",
        "            for page in doc:\n",
        "                text += page.get_text()\n",
        "            return text\n",
        "        except Exception as e:\n",
        "            print(f\"Error reading PDF: {e}\")\n",
        "            return None\n",
        "\n",
        "    def preprocess_text(self, text):\n",
        "        # Split text into sentences\n",
        "        sentences = re.split(r'(?<=[.!?])\\s+', text)\n",
        "        # Remove empty sentences and clean whitespace\n",
        "        sentences = [s.strip() for s in sentences if s.strip()]\n",
        "        return sentences\n",
        "\n",
        "    def find_answer(self, question, sentences):\n",
        "        if not sentences:\n",
        "            return \"Could not process the PDF content.\"\n",
        "\n",
        "        # Get embeddings for question and sentences\n",
        "        question_embedding = self.model.encode([question])[0]\n",
        "        sentence_embeddings = self.model.encode(sentences)\n",
        "\n",
        "        # Calculate similarities\n",
        "        similarities = cosine_similarity([question_embedding], sentence_embeddings)[0]\n",
        "\n",
        "        # Find the most relevant sentence\n",
        "        max_sim_idx = np.argmax(similarities)\n",
        "        max_similarity = similarities[max_sim_idx]\n",
        "\n",
        "        # If similarity is too low, consider it as no relevant answer found\n",
        "        if max_similarity < 0.3:\n",
        "            return \"No such topic found in the PDF.\"\n",
        "\n",
        "        # Return the most relevant sentence as the answer\n",
        "        return sentences[max_sim_idx]\n",
        "\n",
        "\n",
        "def main():\n",
        "    qa_system = PDFQuestionAnswering()\n",
        "\n",
        "    # Get PDF path from user\n",
        "    pdf_path = input(\"Enter the path to your PDF file: \").strip()\n",
        "\n",
        "    # Extract text from PDF\n",
        "    text = qa_system.extract_text_from_pdf(pdf_path)\n",
        "    if text is None:\n",
        "        print(\"Failed to read the PDF. Please check the file path and try again.\")\n",
        "        return\n",
        "\n",
        "    # Preprocess the text\n",
        "    sentences = qa_system.preprocess_text(text)\n",
        "\n",
        "    # Main interaction loop\n",
        "    while True:\n",
        "        question = input(\"\\nEnter your question (or type 'quit' to exit): \").strip()\n",
        "\n",
        "        if question.lower() == 'quit':\n",
        "            break\n",
        "\n",
        "        if not question:\n",
        "            print(\"Please enter a valid question.\")\n",
        "            continue\n",
        "\n",
        "        # Get answer\n",
        "        answer = qa_system.find_answer(question, sentences)\n",
        "        print(\"\\nAnswer:\", answer)\n",
        "\n",
        "\n",
        "if __name__ == \"__main__\":  # Fix: Changed _name_ to __name__ and \"_main_\" to \"__main__\"\n",
        "    main()"
      ],
      "metadata": {
        "id": "eVRW6evCL8U2",
        "outputId": "32ff20bc-c574-4f17-c0db-6c47d7f0b2f8",
        "colab": {
          "base_uri": "https://localhost:8080/"
        }
      },
      "execution_count": null,
      "outputs": [
        {
          "output_type": "stream",
          "name": "stdout",
          "text": [
            "Requirement already satisfied: PyMuPDF in /usr/local/lib/python3.10/dist-packages (1.25.1)\n",
            "Enter the path to your PDF file: /content/Sitaphal.pdf\n",
            "\n",
            "Enter your question (or type 'quit' to exit): our solar system consists of\n",
            "\n",
            "Answer: The Solar System \n",
            " \n",
            "Our solar system consists of the Sun and everything that orbits around it.\n"
          ]
        }
      ]
    }
  ]
}